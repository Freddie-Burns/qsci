{
 "cells": [
  {
   "metadata": {},
   "cell_type": "markdown",
   "source": [
    "**Exercise 3.30** A 4-31G basis for He has not been officially defined. Huzinaga, however, in an SCF calculation on the He atom using four uncontracted \\( 1s \\) Gaussians, found the coefficients and optimum exponents of the normalized \\( 1s \\) orbital of He to be:\n",
    "\n",
    "| $\\alpha_\\mu$ | $C_\\mu$ |\n",
    "|--------------|---------|\n",
    "| 0.298073     | 0.51380 |\n",
    "| 1.242567     | 0.46954 |\n",
    "| 5.782948     | 0.15457 |\n",
    "| 38.47497     | 0.02373 |\n",
    "\n",
    "Use the expression for overlaps given in Appendix A to derive the contraction parameters for a 4-31G He basis set.\n"
   ],
   "id": "25e3b5e29bfe3711"
  },
  {
   "metadata": {},
   "cell_type": "markdown",
   "source": [
    "# The 4-31G basis is a split valence basis.\n",
    "The valence shell orbitals are each split into two Gaussian basis functions.\n",
    "Here the 1s orbial is in the valence shell as the only orbital.\n",
    "One basis function is more diffuse, called the outer.\n",
    "The other basis function is tighter, called the inner.\n",
    "\n",
    "In 4-31G 4 Gaussian primitives are contracted for each core orbital basis function; 3 Guassian primitives are contracted for a inner valence basis function; 1 Gaussian primitive is left uncontracted for an outer valence basis function.\n",
    "\n",
    "The outer basis function is the most diffuse of the primitive Gaussians, so in this case it is:\n",
    "\n",
    "$\\phi''_{1s}(r) = g_{1s}(0.298073, r)$\n"
   ],
   "id": "2d19346388745090"
  },
  {
   "metadata": {},
   "cell_type": "markdown",
   "source": [
    "# Inner basis contraction\n",
    "\n",
    "$\\phi'_{1s}(r) = N \\big[ 0.46954\\, g_{1s}(1.242567, r) + 0.15457\\, g_{1s}(5.782948, r) + 0.02373\\, g_{1s}(38.47497, r) \\big]$"
   ],
   "id": "9d7d57967cb7f49a"
  },
  {
   "metadata": {},
   "cell_type": "markdown",
   "source": [
    "# Overlap integrals\n",
    "The question points to Appendix A for the overlap integrals.\n",
    "This unhelpfully gives overlaps for unnormalised Gaussians.\n",
    "Turning to page 153 we see that the equation 3.203 gives the normalisation constant for Guassian-type primitives is\n",
    "\n",
    "$(\\frac{2\\alpha}{\\pi})^{\\frac{3}{4}}$ .\n",
    "\n",
    "Appendix A equation A.9 gives the overlap integral between two unnormalised Gaussians with a common centre to be\n",
    "\n",
    "$(\\frac{\\pi}{\\alpha + \\beta})^\\frac{3}{2}$\n",
    "\n",
    "where $\\alpha$ and $\\beta$ are the Gaussian exponents.\n",
    "Therefore, the overlap integral between two normalised centred Gaussians is\n",
    "\n",
    "$(\\frac{2\\sqrt{\\alpha\\beta}}{\\alpha+\\beta})^{\\frac{3}{2}}$\n",
    "\n",
    "We can now code the modulus squared of $\\phi'_{1s}(r)$ to find the normalisation factor N."
   ],
   "id": "fce85d5346933c3e"
  },
  {
   "metadata": {
    "ExecuteTime": {
     "end_time": "2025-08-14T15:52:01.849733Z",
     "start_time": "2025-08-14T15:52:01.844774Z"
    }
   },
   "cell_type": "code",
   "source": [
    "from math import sqrt\n",
    "\n",
    "alpha = [1.242567, 5.782948, 38.47497]\n",
    "coeff = [0.46954, 0.15457, 0.02373]\n",
    "primitives = list(zip(alpha, coeff))\n",
    "\n",
    "mod_sq = 0\n",
    "for term1 in primitives:\n",
    "    for term2 in primitives:\n",
    "        alpha = term1 [0]\n",
    "        beta = term2 [0]\n",
    "        c1 = term1 [1]\n",
    "        c2 = term2 [1]\n",
    "        mod_sq += c1 * c2 * (2 * sqrt(alpha * beta) / (alpha + beta)) ** (3/2)\n",
    "\n",
    "N = 1 / sqrt(mod_sq)\n",
    "print(N)\n",
    "print(N*coeff[0], N*coeff[1], N*coeff[2])"
   ],
   "id": "44807d6c829a6f3a",
   "outputs": [
    {
     "name": "stdout",
     "output_type": "stream",
     "text": [
      "1.6895281164968035\n",
      "0.7933010318199091 0.2611503609669109 0.040092502204469145\n"
     ]
    }
   ],
   "execution_count": 13
  },
  {
   "metadata": {},
   "cell_type": "markdown",
   "source": [
    "# Inner basis function\n",
    "This value for N=1.695 gives\n",
    "$\\phi'_{1s}(r) = 0.79330\\, g_{1s}(1.242567, r) + 0.26115\\, g_{1s}(5.782948, r) + 0.04009\\, g_{1s}(38.47497, r)$\n",
    "\n",
    "This reproduces the answers provided on GitHub."
   ],
   "id": "bf9cf5530d21e96c"
  },
  {
   "metadata": {},
   "cell_type": "code",
   "outputs": [],
   "execution_count": null,
   "source": "",
   "id": "8bb7f976dd06bbb6"
  }
 ],
 "metadata": {
  "kernelspec": {
   "display_name": "Python 3",
   "language": "python",
   "name": "python3"
  },
  "language_info": {
   "codemirror_mode": {
    "name": "ipython",
    "version": 2
   },
   "file_extension": ".py",
   "mimetype": "text/x-python",
   "name": "python",
   "nbconvert_exporter": "python",
   "pygments_lexer": "ipython2",
   "version": "2.7.6"
  }
 },
 "nbformat": 4,
 "nbformat_minor": 5
}
