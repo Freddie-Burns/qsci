{
 "cells": [
  {
   "cell_type": "code",
   "id": "initial_id",
   "metadata": {
    "collapsed": true,
    "ExecuteTime": {
     "end_time": "2025-05-20T10:36:57.041782Z",
     "start_time": "2025-05-20T10:36:55.776835Z"
    }
   },
   "source": [
    "import py3Dmol\n",
    "from IPython.display import display\n",
    "from openfermion import MolecularData\n",
    "from pyscf import gto\n",
    "\n",
    "import molecule"
   ],
   "outputs": [],
   "execution_count": 1
  },
  {
   "cell_type": "code",
   "id": "25d3dccff3941d58",
   "metadata": {
    "ExecuteTime": {
     "end_time": "2025-05-20T10:36:57.509476Z",
     "start_time": "2025-05-20T10:36:57.505542Z"
    }
   },
   "source": [
    "def pyscf_to_xyz(mol: MolecularData,):\n",
    "    xyz = f\"{mol.n_atoms}\\n\\n\"\n",
    "    for atom in mol.geometry:\n",
    "        sym = atom[0]\n",
    "        pos = atom[1]\n",
    "        xyz += f\"{sym} {pos[0]:.6f} {pos[1]:.6f} {pos[2]:.6f}\\n\"\n",
    "    return xyz"
   ],
   "outputs": [],
   "execution_count": 2
  },
  {
   "cell_type": "code",
   "id": "71dfa2c3cca0419b",
   "metadata": {
    "ExecuteTime": {
     "end_time": "2025-05-20T10:47:52.427269Z",
     "start_time": "2025-05-20T10:47:52.419761Z"
    }
   },
   "source": [
    "formaldehyde = molecule.formaldehyde(bond_length=4)\n",
    "xyz = pyscf_to_xyz(formaldehyde)\n",
    "view = py3Dmol.view(width=400, height=300)\n",
    "view.addModel(xyz, 'xyz')\n",
    "# view.setStyle({'stick': {'colorscheme': 'cyanCarbon'}})\n",
    "view.setStyle({'sphere': {'scale': 0.7}})\n",
    "view.setBackgroundColor('white')\n",
    "view.zoomTo()\n",
    "view.render()"
   ],
   "outputs": [
    {
     "data": {
      "application/3dmoljs_load.v0": "<div id=\"3dmolviewer_17477380724224925\"  style=\"position: relative; width: 400px; height: 300px;\">\n        <p id=\"3dmolwarning_17477380724224925\" style=\"background-color:#ffcccc;color:black\">3Dmol.js failed to load for some reason.  Please check your browser console for error messages.<br></p>\n        </div>\n<script>\n\nvar loadScriptAsync = function(uri){\n  return new Promise((resolve, reject) => {\n    //this is to ignore the existence of requirejs amd\n    var savedexports, savedmodule;\n    if (typeof exports !== 'undefined') savedexports = exports;\n    else exports = {}\n    if (typeof module !== 'undefined') savedmodule = module;\n    else module = {}\n\n    var tag = document.createElement('script');\n    tag.src = uri;\n    tag.async = true;\n    tag.onload = () => {\n        exports = savedexports;\n        module = savedmodule;\n        resolve();\n    };\n  var firstScriptTag = document.getElementsByTagName('script')[0];\n  firstScriptTag.parentNode.insertBefore(tag, firstScriptTag);\n});\n};\n\nif(typeof $3Dmolpromise === 'undefined') {\n$3Dmolpromise = null;\n  $3Dmolpromise = loadScriptAsync('https://cdnjs.cloudflare.com/ajax/libs/3Dmol/2.4.2/3Dmol-min.js');\n}\n\nvar viewer_17477380724224925 = null;\nvar warn = document.getElementById(\"3dmolwarning_17477380724224925\");\nif(warn) {\n    warn.parentNode.removeChild(warn);\n}\n$3Dmolpromise.then(function() {\nviewer_17477380724224925 = $3Dmol.createViewer(document.getElementById(\"3dmolviewer_17477380724224925\"),{backgroundColor:\"white\"});\nviewer_17477380724224925.zoomTo();\n\tviewer_17477380724224925.addModel(\"4\\n\\nO -0.598076 -2.060044 0.000000\\nC 2.866000 -0.060000 0.000000\\nH 3.403000 -0.370000 0.000000\\nH 2.866000 0.560000 0.000000\\n\",\"xyz\");\n\tviewer_17477380724224925.setStyle({\"sphere\": {\"scale\": 0.7}});\n\tviewer_17477380724224925.setBackgroundColor(\"white\");\n\tviewer_17477380724224925.zoomTo();\n\tviewer_17477380724224925.render();\nviewer_17477380724224925.render();\n});\n</script>",
      "text/html": [
       "<div id=\"3dmolviewer_17477380724224925\"  style=\"position: relative; width: 400px; height: 300px;\">\n",
       "        <p id=\"3dmolwarning_17477380724224925\" style=\"background-color:#ffcccc;color:black\">3Dmol.js failed to load for some reason.  Please check your browser console for error messages.<br></p>\n",
       "        </div>\n",
       "<script>\n",
       "\n",
       "var loadScriptAsync = function(uri){\n",
       "  return new Promise((resolve, reject) => {\n",
       "    //this is to ignore the existence of requirejs amd\n",
       "    var savedexports, savedmodule;\n",
       "    if (typeof exports !== 'undefined') savedexports = exports;\n",
       "    else exports = {}\n",
       "    if (typeof module !== 'undefined') savedmodule = module;\n",
       "    else module = {}\n",
       "\n",
       "    var tag = document.createElement('script');\n",
       "    tag.src = uri;\n",
       "    tag.async = true;\n",
       "    tag.onload = () => {\n",
       "        exports = savedexports;\n",
       "        module = savedmodule;\n",
       "        resolve();\n",
       "    };\n",
       "  var firstScriptTag = document.getElementsByTagName('script')[0];\n",
       "  firstScriptTag.parentNode.insertBefore(tag, firstScriptTag);\n",
       "});\n",
       "};\n",
       "\n",
       "if(typeof $3Dmolpromise === 'undefined') {\n",
       "$3Dmolpromise = null;\n",
       "  $3Dmolpromise = loadScriptAsync('https://cdnjs.cloudflare.com/ajax/libs/3Dmol/2.4.2/3Dmol-min.js');\n",
       "}\n",
       "\n",
       "var viewer_17477380724224925 = null;\n",
       "var warn = document.getElementById(\"3dmolwarning_17477380724224925\");\n",
       "if(warn) {\n",
       "    warn.parentNode.removeChild(warn);\n",
       "}\n",
       "$3Dmolpromise.then(function() {\n",
       "viewer_17477380724224925 = $3Dmol.createViewer(document.getElementById(\"3dmolviewer_17477380724224925\"),{backgroundColor:\"white\"});\n",
       "viewer_17477380724224925.zoomTo();\n",
       "\tviewer_17477380724224925.addModel(\"4\\n\\nO -0.598076 -2.060044 0.000000\\nC 2.866000 -0.060000 0.000000\\nH 3.403000 -0.370000 0.000000\\nH 2.866000 0.560000 0.000000\\n\",\"xyz\");\n",
       "\tviewer_17477380724224925.setStyle({\"sphere\": {\"scale\": 0.7}});\n",
       "\tviewer_17477380724224925.setBackgroundColor(\"white\");\n",
       "\tviewer_17477380724224925.zoomTo();\n",
       "\tviewer_17477380724224925.render();\n",
       "viewer_17477380724224925.render();\n",
       "});\n",
       "</script>"
      ]
     },
     "metadata": {},
     "output_type": "display_data"
    },
    {
     "data": {
      "text/plain": [
       "<py3Dmol.view at 0x7fc61d151ad0>"
      ]
     },
     "execution_count": 25,
     "metadata": {},
     "output_type": "execute_result"
    }
   ],
   "execution_count": 25
  },
  {
   "cell_type": "code",
   "id": "a1a1de96",
   "metadata": {
    "ExecuteTime": {
     "end_time": "2025-05-20T10:37:10.894367Z",
     "start_time": "2025-05-20T10:37:10.883174Z"
    }
   },
   "source": [
    "view = py3Dmol.view(width=680, height=250, query='cid:11622326', viewergrid=(1, 3), linked=True)\n",
    "view.setStyle({'line': {'linewidth': 1}}, viewer=(0, 0))\n",
    "view.setStyle({'stick': {'colorscheme': 'cyanCarbon'}}, viewer=(0, 1))\n",
    "view.setStyle({'sphere': {}}, viewer=(0, 2))\n",
    "view.zoomTo()\n",
    "\n",
    "view.render()"
   ],
   "outputs": [
    {
     "data": {
      "application/3dmoljs_load.v0": "<div id=\"3dmolviewer_17477374308886504\"  style=\"position: relative; width: 680px; height: 250px;\">\n        <p id=\"3dmolwarning_17477374308886504\" style=\"background-color:#ffcccc;color:black\">3Dmol.js failed to load for some reason.  Please check your browser console for error messages.<br></p>\n        </div>\n<script>\n\nvar loadScriptAsync = function(uri){\n  return new Promise((resolve, reject) => {\n    //this is to ignore the existence of requirejs amd\n    var savedexports, savedmodule;\n    if (typeof exports !== 'undefined') savedexports = exports;\n    else exports = {}\n    if (typeof module !== 'undefined') savedmodule = module;\n    else module = {}\n\n    var tag = document.createElement('script');\n    tag.src = uri;\n    tag.async = true;\n    tag.onload = () => {\n        exports = savedexports;\n        module = savedmodule;\n        resolve();\n    };\n  var firstScriptTag = document.getElementsByTagName('script')[0];\n  firstScriptTag.parentNode.insertBefore(tag, firstScriptTag);\n});\n};\n\nif(typeof $3Dmolpromise === 'undefined') {\n$3Dmolpromise = null;\n  $3Dmolpromise = loadScriptAsync('https://cdnjs.cloudflare.com/ajax/libs/3Dmol/2.4.2/3Dmol-min.js');\n}\n\nvar viewer_17477374308886504 = null;\nvar warn = document.getElementById(\"3dmolwarning_17477374308886504\");\nif(warn) {\n    warn.parentNode.removeChild(warn);\n}\n$3Dmolpromise.then(function() {\nvar viewergrid_17477374308886504 = null;\nviewergrid_17477374308886504 = $3Dmol.createViewerGrid(document.getElementById(\"3dmolviewer_17477374308886504\"),{rows: 1, cols: 3, control_all: true},{backgroundColor:\"white\"});\nviewer_17477374308886504 = viewergrid_17477374308886504[0][0];\n$3Dmol.download(\"cid:11622326\", viewergrid_17477374308886504[0][0], {}, function() {\n$3Dmol.download(\"cid:11622326\", viewergrid_17477374308886504[0][1], {}, function() {\n$3Dmol.download(\"cid:11622326\", viewergrid_17477374308886504[0][2], {}, function() {\nviewergrid_17477374308886504[0][0].zoomTo();viewergrid_17477374308886504[0][1].zoomTo();viewergrid_17477374308886504[0][2].zoomTo();\tviewergrid_17477374308886504[0][0].setStyle({\"line\": {\"linewidth\": 1}});\n\tviewergrid_17477374308886504[0][1].setStyle({\"stick\": {\"colorscheme\": \"cyanCarbon\"}});\n\tviewergrid_17477374308886504[0][2].setStyle({\"sphere\": {}});\n\tviewergrid_17477374308886504[0][0].zoomTo();\n\tviewergrid_17477374308886504[0][1].zoomTo();\n\tviewergrid_17477374308886504[0][2].zoomTo();\n\tviewergrid_17477374308886504[0][0].render();\n\tviewergrid_17477374308886504[0][1].render();\n\tviewergrid_17477374308886504[0][2].render();\nviewergrid_17477374308886504[0][2].render();\nviewergrid_17477374308886504[0][1].render();\nviewergrid_17477374308886504[0][0].render();\n})\n})\n})\n});\n</script>",
      "text/html": [
       "<div id=\"3dmolviewer_17477374308886504\"  style=\"position: relative; width: 680px; height: 250px;\">\n",
       "        <p id=\"3dmolwarning_17477374308886504\" style=\"background-color:#ffcccc;color:black\">3Dmol.js failed to load for some reason.  Please check your browser console for error messages.<br></p>\n",
       "        </div>\n",
       "<script>\n",
       "\n",
       "var loadScriptAsync = function(uri){\n",
       "  return new Promise((resolve, reject) => {\n",
       "    //this is to ignore the existence of requirejs amd\n",
       "    var savedexports, savedmodule;\n",
       "    if (typeof exports !== 'undefined') savedexports = exports;\n",
       "    else exports = {}\n",
       "    if (typeof module !== 'undefined') savedmodule = module;\n",
       "    else module = {}\n",
       "\n",
       "    var tag = document.createElement('script');\n",
       "    tag.src = uri;\n",
       "    tag.async = true;\n",
       "    tag.onload = () => {\n",
       "        exports = savedexports;\n",
       "        module = savedmodule;\n",
       "        resolve();\n",
       "    };\n",
       "  var firstScriptTag = document.getElementsByTagName('script')[0];\n",
       "  firstScriptTag.parentNode.insertBefore(tag, firstScriptTag);\n",
       "});\n",
       "};\n",
       "\n",
       "if(typeof $3Dmolpromise === 'undefined') {\n",
       "$3Dmolpromise = null;\n",
       "  $3Dmolpromise = loadScriptAsync('https://cdnjs.cloudflare.com/ajax/libs/3Dmol/2.4.2/3Dmol-min.js');\n",
       "}\n",
       "\n",
       "var viewer_17477374308886504 = null;\n",
       "var warn = document.getElementById(\"3dmolwarning_17477374308886504\");\n",
       "if(warn) {\n",
       "    warn.parentNode.removeChild(warn);\n",
       "}\n",
       "$3Dmolpromise.then(function() {\n",
       "var viewergrid_17477374308886504 = null;\n",
       "viewergrid_17477374308886504 = $3Dmol.createViewerGrid(document.getElementById(\"3dmolviewer_17477374308886504\"),{rows: 1, cols: 3, control_all: true},{backgroundColor:\"white\"});\n",
       "viewer_17477374308886504 = viewergrid_17477374308886504[0][0];\n",
       "$3Dmol.download(\"cid:11622326\", viewergrid_17477374308886504[0][0], {}, function() {\n",
       "$3Dmol.download(\"cid:11622326\", viewergrid_17477374308886504[0][1], {}, function() {\n",
       "$3Dmol.download(\"cid:11622326\", viewergrid_17477374308886504[0][2], {}, function() {\n",
       "viewergrid_17477374308886504[0][0].zoomTo();viewergrid_17477374308886504[0][1].zoomTo();viewergrid_17477374308886504[0][2].zoomTo();\tviewergrid_17477374308886504[0][0].setStyle({\"line\": {\"linewidth\": 1}});\n",
       "\tviewergrid_17477374308886504[0][1].setStyle({\"stick\": {\"colorscheme\": \"cyanCarbon\"}});\n",
       "\tviewergrid_17477374308886504[0][2].setStyle({\"sphere\": {}});\n",
       "\tviewergrid_17477374308886504[0][0].zoomTo();\n",
       "\tviewergrid_17477374308886504[0][1].zoomTo();\n",
       "\tviewergrid_17477374308886504[0][2].zoomTo();\n",
       "\tviewergrid_17477374308886504[0][0].render();\n",
       "\tviewergrid_17477374308886504[0][1].render();\n",
       "\tviewergrid_17477374308886504[0][2].render();\n",
       "viewergrid_17477374308886504[0][2].render();\n",
       "viewergrid_17477374308886504[0][1].render();\n",
       "viewergrid_17477374308886504[0][0].render();\n",
       "})\n",
       "})\n",
       "})\n",
       "});\n",
       "</script>"
      ]
     },
     "metadata": {},
     "output_type": "display_data"
    },
    {
     "data": {
      "text/plain": [
       "<py3Dmol.view at 0x7fc61d603390>"
      ]
     },
     "execution_count": 5,
     "metadata": {},
     "output_type": "execute_result"
    }
   ],
   "execution_count": 5
  },
  {
   "cell_type": "code",
   "execution_count": null,
   "id": "98a992c5",
   "metadata": {},
   "outputs": [],
   "source": []
  }
 ],
 "metadata": {
  "kernelspec": {
   "display_name": "qsci",
   "language": "python",
   "name": "python3"
  },
  "language_info": {
   "codemirror_mode": {
    "name": "ipython",
    "version": 3
   },
   "file_extension": ".py",
   "mimetype": "text/x-python",
   "name": "python",
   "nbconvert_exporter": "python",
   "pygments_lexer": "ipython3",
   "version": "3.11.11"
  }
 },
 "nbformat": 4,
 "nbformat_minor": 5
}
