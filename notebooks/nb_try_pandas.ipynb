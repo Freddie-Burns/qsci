{
 "cells": [
  {
   "metadata": {
    "ExecuteTime": {
     "end_time": "2025-05-09T11:43:30.885065Z",
     "start_time": "2025-05-09T11:43:29.790120Z"
    }
   },
   "cell_type": "code",
   "source": [
    "from iqm.iqm_client import IQMClient\n",
    "from iqm.qiskit_iqm import IQMBackend\n",
    "\n",
    "import cloud\n",
    "from store import JobData\n",
    "\n",
    "with open(\"../token.txt\") as file:\n",
    "    TOKEN = file.read()"
   ],
   "id": "66b91d88959d1781",
   "outputs": [],
   "execution_count": 8
  },
  {
   "metadata": {
    "ExecuteTime": {
     "end_time": "2025-05-09T11:41:43.351286Z",
     "start_time": "2025-05-09T11:41:42.962449Z"
    }
   },
   "cell_type": "code",
   "source": [
    "job_url = cloud.CloudURL.garnet\n",
    "backend = cloud.get_backend(job_url)\n",
    "job_id = \"0196aac1-3398-7c12-bcd4-4a9aaf8ef116\""
   ],
   "id": "c707092f14846262",
   "outputs": [
    {
     "name": "stderr",
     "output_type": "stream",
     "text": [
      "/home/fredd/.local/lib/python3.10/site-packages/iqm/iqm_client/iqm_client.py:142: UserWarning: Your IQM Client version 23.8 was built for a different version of IQM Server. You might encounter issues. For the best experience, consider using a version of IQM Client that satisfies 22.3 <= iqm-client < 23.0.\n",
      "  warnings.warn(version_incompatibility_msg)\n"
     ]
    }
   ],
   "execution_count": 2
  },
  {
   "cell_type": "code",
   "id": "initial_id",
   "metadata": {
    "collapsed": true,
    "ExecuteTime": {
     "end_time": "2025-05-09T11:41:45.533831Z",
     "start_time": "2025-05-09T11:41:45.235768Z"
    }
   },
   "source": [
    "client = IQMClient(job_url, token=TOKEN)\n",
    "backend = IQMBackend(client=client)\n",
    "job = backend.retrieve_job(job_id=job_id)"
   ],
   "outputs": [],
   "execution_count": 3
  },
  {
   "metadata": {
    "ExecuteTime": {
     "end_time": "2025-05-09T11:41:52.705500Z",
     "start_time": "2025-05-09T11:41:50.614024Z"
    }
   },
   "cell_type": "code",
   "source": "results = job.result().results",
   "id": "42cdde58a137bb79",
   "outputs": [],
   "execution_count": 4
  },
  {
   "metadata": {
    "ExecuteTime": {
     "end_time": "2025-05-09T11:42:08.002910Z",
     "start_time": "2025-05-09T11:42:07.998389Z"
    }
   },
   "cell_type": "code",
   "source": [
    "counts = []\n",
    "for result in results:\n",
    "    counts.append(result.data.counts)"
   ],
   "id": "d032ad181f509f90",
   "outputs": [],
   "execution_count": 5
  },
  {
   "metadata": {
    "ExecuteTime": {
     "end_time": "2025-05-09T11:42:09.127987Z",
     "start_time": "2025-05-09T11:42:09.002329Z"
    }
   },
   "cell_type": "code",
   "source": [
    "import pandas as pd\n",
    "import numpy as np\n",
    "headers = [str(np.round(x, 1)) for x in np.linspace(0.2, 2.0, 10)]\n",
    "headers"
   ],
   "id": "b15e505a00101483",
   "outputs": [
    {
     "data": {
      "text/plain": [
       "['0.2', '0.4', '0.6', '0.8', '1.0', '1.2', '1.4', '1.6', '1.8', '2.0']"
      ]
     },
     "execution_count": 6,
     "metadata": {},
     "output_type": "execute_result"
    }
   ],
   "execution_count": 6
  },
  {
   "metadata": {
    "ExecuteTime": {
     "end_time": "2025-05-09T11:42:11.094596Z",
     "start_time": "2025-05-09T11:42:11.032778Z"
    }
   },
   "cell_type": "code",
   "source": [
    "df = pd.DataFrame.from_dict(counts)\n",
    "df = df.fillna(0).T\n",
    "df.columns = headers\n",
    "df.insert(0, 'bitstring', df.index)\n",
    "df.reset_index(drop=True, inplace=True)\n",
    "\n",
    "hamming_weights = df[\"bitstring\"].apply(lambda s: s.count(\"1\"))\n",
    "df.insert(loc=1, column=\"hamming_weight\", value=hamming_weights)\n",
    "filtered_df = df[df[\"hamming_weight\"] == 4]"
   ],
   "id": "7b86938195ba1699",
   "outputs": [],
   "execution_count": 7
  },
  {
   "metadata": {
    "ExecuteTime": {
     "end_time": "2025-05-08T10:17:46.771961Z",
     "start_time": "2025-05-08T10:17:46.769774Z"
    }
   },
   "cell_type": "code",
   "source": [
    "molecules = None\n",
    "job_data = JobData(job_url, job_id, job, )"
   ],
   "id": "38bbcd9ae175edc7",
   "outputs": [],
   "execution_count": null
  }
 ],
 "metadata": {
  "kernelspec": {
   "display_name": "Python 3",
   "language": "python",
   "name": "python3"
  },
  "language_info": {
   "codemirror_mode": {
    "name": "ipython",
    "version": 2
   },
   "file_extension": ".py",
   "mimetype": "text/x-python",
   "name": "python",
   "nbconvert_exporter": "python",
   "pygments_lexer": "ipython2",
   "version": "2.7.6"
  }
 },
 "nbformat": 4,
 "nbformat_minor": 5
}
