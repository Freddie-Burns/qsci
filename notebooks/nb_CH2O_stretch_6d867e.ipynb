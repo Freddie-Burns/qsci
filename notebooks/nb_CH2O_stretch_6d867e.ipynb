{
 "cells": [
  {
   "cell_type": "code",
   "id": "initial_id",
   "metadata": {
    "collapsed": true,
    "ExecuteTime": {
     "end_time": "2025-08-22T11:51:59.423140Z",
     "start_time": "2025-08-22T11:51:56.085610Z"
    }
   },
   "source": [
    "import dill\n",
    "import matplotlib.pyplot as plt\n",
    "\n",
    "import energy\n",
    "import store"
   ],
   "outputs": [],
   "execution_count": 1
  },
  {
   "metadata": {
    "ExecuteTime": {
     "end_time": "2025-08-22T11:52:00.416959Z",
     "start_time": "2025-08-22T11:52:00.408794Z"
    }
   },
   "cell_type": "code",
   "source": "job_data: store.JobData = store.load_job_data(\"e2579a\")",
   "id": "509e21e0b6d6a25c",
   "outputs": [],
   "execution_count": 2
  },
  {
   "metadata": {},
   "cell_type": "code",
   "source": [
    "fci_energies = []\n",
    "qsci_energies = []\n",
    "for molecule, result in zip(job_data.molecules, job_data.results):\n",
    "    fci, qsci = energy.calculate_energy_ladders(molecule, result)\n",
    "    fci_energies.append(fci)\n",
    "    qsci_energies.append(qsci)"
   ],
   "id": "a987418f0216d0a",
   "outputs": [],
   "execution_count": null
  },
  {
   "metadata": {},
   "cell_type": "code",
   "outputs": [],
   "execution_count": null,
   "source": "",
   "id": "450b337e28cfaf64"
  }
 ],
 "metadata": {
  "kernelspec": {
   "display_name": "Python 3",
   "language": "python",
   "name": "python3"
  },
  "language_info": {
   "codemirror_mode": {
    "name": "ipython",
    "version": 2
   },
   "file_extension": ".py",
   "mimetype": "text/x-python",
   "name": "python",
   "nbconvert_exporter": "python",
   "pygments_lexer": "ipython2",
   "version": "2.7.6"
  }
 },
 "nbformat": 4,
 "nbformat_minor": 5
}
